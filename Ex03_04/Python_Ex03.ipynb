{
 "cells": [
  {
   "attachments": {},
   "cell_type": "markdown",
   "metadata": {},
   "source": [
    "# Question 1"
   ]
  },
  {
   "cell_type": "code",
   "execution_count": null,
   "metadata": {},
   "outputs": [],
   "source": [
    "input_char = input(\"Enter Character:\")\n",
    "length = len(input_char)\n",
    "print(f\"First character of “Python” is: {input_char[0]}\")\n",
    "print(f\"First character of “Python” is: {input_char[length-1]}\")\n",
    "if length % 2 != 0:\n",
    "    print(f\"Middle characters of “Python” is: {input_char[int(length/2)]}\")\n",
    "else:\n",
    "    print(f\"Middle characters of “Python” is: {input_char[int(length/2)]}{input_char[int(length/2)+1]}\")"
   ]
  },
  {
   "attachments": {},
   "cell_type": "markdown",
   "metadata": {},
   "source": [
    "# Quenstion 2"
   ]
  },
  {
   "cell_type": "code",
   "execution_count": 105,
   "metadata": {},
   "outputs": [
    {
     "name": "stdout",
     "output_type": "stream",
     "text": [
      "mohammd\n"
     ]
    }
   ],
   "source": [
    "\n",
    "list1 = []\n",
    "sum = 0\n",
    "max_value = 0\n",
    "for i in range(3):\n",
    "    str1 = input(f\"Enter String {i+1}\")\n",
    "    list1.append(str1)\n",
    "    sum =  sum + len(str1)\n",
    "\n",
    "average  = sum / 3 \n",
    "\n",
    "for i in list1:\n",
    "    if len(i) > average:\n",
    "        print(i) \n",
    "    \n"
   ]
  },
  {
   "cell_type": "code",
   "execution_count": 110,
   "metadata": {},
   "outputs": [
    {
     "name": "stdout",
     "output_type": "stream",
     "text": [
      "ali\n"
     ]
    }
   ],
   "source": [
    "str1 = input(\"Enter first string:\")\n",
    "str2 = input(\"Enter second string:\")\n",
    "    \n",
    "if str2 in str1:\n",
    "    print(str2)"
   ]
  },
  {
   "cell_type": "code",
   "execution_count": null,
   "metadata": {},
   "outputs": [],
   "source": []
  },
  {
   "cell_type": "code",
   "execution_count": null,
   "metadata": {},
   "outputs": [],
   "source": []
  }
 ],
 "metadata": {
  "kernelspec": {
   "display_name": "Python 3",
   "language": "python",
   "name": "python3"
  },
  "language_info": {
   "codemirror_mode": {
    "name": "ipython",
    "version": 3
   },
   "file_extension": ".py",
   "mimetype": "text/x-python",
   "name": "python",
   "nbconvert_exporter": "python",
   "pygments_lexer": "ipython3",
   "version": "3.11.3"
  },
  "orig_nbformat": 4
 },
 "nbformat": 4,
 "nbformat_minor": 2
}
