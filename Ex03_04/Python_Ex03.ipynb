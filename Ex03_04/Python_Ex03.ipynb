{
 "cells": [
  {
   "attachments": {},
   "cell_type": "markdown",
   "metadata": {},
   "source": [
    "# Question 1"
   ]
  },
  {
   "cell_type": "code",
   "execution_count": 43,
   "metadata": {},
   "outputs": [
    {
     "ename": "IndexError",
     "evalue": "string index out of range",
     "output_type": "error",
     "traceback": [
      "\u001b[1;31m---------------------------------------------------------------------------\u001b[0m",
      "\u001b[1;31mIndexError\u001b[0m                                Traceback (most recent call last)",
      "Cell \u001b[1;32mIn[43], line 3\u001b[0m\n\u001b[0;32m      1\u001b[0m input_char \u001b[39m=\u001b[39m \u001b[39minput\u001b[39m(\u001b[39m\"\u001b[39m\u001b[39mEnter Character:\u001b[39m\u001b[39m\"\u001b[39m)\n\u001b[0;32m      2\u001b[0m length \u001b[39m=\u001b[39m \u001b[39mlen\u001b[39m(input_char)\n\u001b[1;32m----> 3\u001b[0m \u001b[39mprint\u001b[39m(\u001b[39mf\u001b[39m\u001b[39m\"\u001b[39m\u001b[39mFirst character of “Python” is: \u001b[39m\u001b[39m{\u001b[39;00minput_char[\u001b[39m0\u001b[39;49m]\u001b[39m}\u001b[39;00m\u001b[39m\"\u001b[39m)\n\u001b[0;32m      4\u001b[0m \u001b[39mprint\u001b[39m(\u001b[39mf\u001b[39m\u001b[39m\"\u001b[39m\u001b[39mFirst character of “Python” is: \u001b[39m\u001b[39m{\u001b[39;00minput_char[length\u001b[39m-\u001b[39m\u001b[39m1\u001b[39m]\u001b[39m}\u001b[39;00m\u001b[39m\"\u001b[39m)\n\u001b[0;32m      5\u001b[0m \u001b[39mif\u001b[39;00m length \u001b[39m%\u001b[39m \u001b[39m2\u001b[39m \u001b[39m!=\u001b[39m \u001b[39m0\u001b[39m:\n",
      "\u001b[1;31mIndexError\u001b[0m: string index out of range"
     ]
    }
   ],
   "source": [
    "input_char = input(\"Enter Character:\")\n",
    "length = len(input_char)\n",
    "print(f\"First character of “Python” is: {input_char[0]}\")\n",
    "print(f\"First character of “Python” is: {input_char[length-1]}\")\n",
    "if length % 2 != 0:\n",
    "    print(f\"Middle characters of “Python” is: {input_char[int(length/2)]}\")\n",
    "else:\n",
    "    print(f\"Middle characters of “Python” is: {input_char[int(length/2)]}{input_char[int(length/2)+1]}\")"
   ]
  },
  {
   "attachments": {},
   "cell_type": "markdown",
   "metadata": {},
   "source": [
    "# Quenstion 2"
   ]
  },
  {
   "cell_type": "code",
   "execution_count": null,
   "metadata": {},
   "outputs": [
    {
     "name": "stdout",
     "output_type": "stream",
     "text": [
      "nohtyp iH\n"
     ]
    }
   ],
   "source": [
    "str1 = \"Hi python\"\n",
    "\n",
    "print(str1[::-1])"
   ]
  },
  {
   "cell_type": "code",
   "execution_count": null,
   "metadata": {},
   "outputs": [
    {
     "name": "stdout",
     "output_type": "stream",
     "text": [
      "HiHiHiHi\n",
      "HiThere\n",
      "False\n"
     ]
    }
   ],
   "source": [
    "str1 = \"Hi\"\n",
    "str2 = \"There\"\n",
    "print(4*str1)\n",
    "print(str1+str2)\n",
    "print(str1==str2)\n"
   ]
  },
  {
   "attachments": {},
   "cell_type": "markdown",
   "metadata": {},
   "source": [
    "# Methods"
   ]
  },
  {
   "cell_type": "code",
   "execution_count": null,
   "metadata": {},
   "outputs": [
    {
     "name": "stdout",
     "output_type": "stream",
     "text": [
      "hello\n",
      "HELLO\n",
      "Hello\n"
     ]
    }
   ],
   "source": [
    "str1 =\"Hello\"\n",
    "\n",
    "str1 = str1.lower()\n",
    "print(str1)\n",
    "str1 = str1.upper()\n",
    "print(str1)\n",
    "str1 = str1.title()\n",
    "print(str1)\n"
   ]
  },
  {
   "cell_type": "code",
   "execution_count": null,
   "metadata": {},
   "outputs": [
    {
     "name": "stdout",
     "output_type": "stream",
     "text": [
      "0\n",
      "6\n"
     ]
    }
   ],
   "source": [
    "txt = \"hi Python\"\n",
    "print(txt.find(\"h\"))\n",
    "print(txt.rfind(\"h\"))\n"
   ]
  },
  {
   "cell_type": "code",
   "execution_count": null,
   "metadata": {},
   "outputs": [
    {
     "name": "stdout",
     "output_type": "stream",
     "text": [
      "java\n"
     ]
    }
   ],
   "source": [
    "str1 = \"python\"\n",
    "\n",
    "str1 = str1.replace(\"python\",\"java\")\n",
    "print(str1)"
   ]
  },
  {
   "cell_type": "code",
   "execution_count": null,
   "metadata": {},
   "outputs": [
    {
     "name": "stdout",
     "output_type": "stream",
     "text": [
      "2\n"
     ]
    }
   ],
   "source": [
    "str1 = \"hi python\"\n",
    "str1= str1.count(\"h\")\n",
    "print(str1)\n"
   ]
  },
  {
   "cell_type": "code",
   "execution_count": 51,
   "metadata": {},
   "outputs": [
    {
     "name": "stdout",
     "output_type": "stream",
     "text": [
      "<class 'str'>\n",
      "hi python\n",
      "<class 'list'>\n",
      "<class 'list'>\n",
      "['hi', 'python']\n",
      "['', 'i pyt', 'on']\n"
     ]
    }
   ],
   "source": [
    "str1 = \"hi python\"\n",
    "print(type(str1))\n",
    "print(str1)\n",
    "str2 = str1.split()\n",
    "str3 = str1.split(\"h\")\n",
    "print(type(str2))\n",
    "print(type(str3))\n",
    "print(str2)\n",
    "print(str3)\n"
   ]
  },
  {
   "cell_type": "code",
   "execution_count": 52,
   "metadata": {},
   "outputs": [
    {
     "name": "stdout",
     "output_type": "stream",
     "text": [
      "hi python!\n"
     ]
    }
   ],
   "source": [
    "word = [\"hi python\",\"!\"]\n",
    "txt = \"\".join(word)\n",
    "print(txt)\n",
    "\n"
   ]
  },
  {
   "attachments": {},
   "cell_type": "markdown",
   "metadata": {},
   "source": [
    "# Search"
   ]
  },
  {
   "cell_type": "code",
   "execution_count": null,
   "metadata": {},
   "outputs": [
    {
     "name": "stdout",
     "output_type": "stream",
     "text": [
      "Ok\n"
     ]
    }
   ],
   "source": [
    "user = input(\"Are you student?(yes/no)\")\n",
    "user = user.lower()\n",
    "if user == \"yes\":\n",
    "    print(\"Ok\")"
   ]
  },
  {
   "cell_type": "code",
   "execution_count": null,
   "metadata": {},
   "outputs": [],
   "source": [
    "str1 = input(\"enter str1:\")\n",
    "str2 = input(\"\")"
   ]
  },
  {
   "attachments": {},
   "cell_type": "markdown",
   "metadata": {},
   "source": [
    "# List"
   ]
  },
  {
   "cell_type": "code",
   "execution_count": 15,
   "metadata": {},
   "outputs": [
    {
     "name": "stdout",
     "output_type": "stream",
     "text": [
      "4\n",
      "18\n",
      "['ali', 18, 'mohammad']\n",
      "['mohammad', 18, 'ali', 12.5]\n"
     ]
    }
   ],
   "source": [
    "list1 = [12.5,\"ali\",18,\"mohammad\"]\n",
    "print(len(list1))\n",
    "print(list1[2])\n",
    "print(list1[1:4])\n",
    "print(list1[::-1])"
   ]
  },
  {
   "cell_type": "code",
   "execution_count": 17,
   "metadata": {},
   "outputs": [
    {
     "name": "stdout",
     "output_type": "stream",
     "text": [
      "[12.5, 'ali', 'python', 'mohammad']\n"
     ]
    }
   ],
   "source": [
    "list1 = [12.5,\"ali\",18,\"mohammad\"]\n",
    "list1[2] = \"python\"\n",
    "print(list1)"
   ]
  },
  {
   "cell_type": "code",
   "execution_count": 19,
   "metadata": {},
   "outputs": [
    {
     "data": {
      "text/plain": [
       "[12.5, 'ali', 18, 'mohammad', 100]"
      ]
     },
     "execution_count": 19,
     "metadata": {},
     "output_type": "execute_result"
    }
   ],
   "source": [
    "list1 = [12.5,\"ali\",18,\"mohammad\"]\n",
    "list1.append(100)\n",
    "list1"
   ]
  },
  {
   "cell_type": "code",
   "execution_count": 25,
   "metadata": {},
   "outputs": [
    {
     "data": {
      "text/plain": [
       "[15.7, 9999, 12.5, 'ali', 18, 'mohammad', 'saleh']"
      ]
     },
     "execution_count": 25,
     "metadata": {},
     "output_type": "execute_result"
    }
   ],
   "source": [
    "list1 = [12.5,\"ali\",18,\"mohammad\"]\n",
    "list1.insert(0,9999)\n",
    "list1.insert(10,\"saleh\")\n",
    "list1.insert(-10,15.7)\n",
    "list1"
   ]
  },
  {
   "cell_type": "code",
   "execution_count": 30,
   "metadata": {},
   "outputs": [
    {
     "name": "stdout",
     "output_type": "stream",
     "text": [
      "al\n"
     ]
    }
   ],
   "source": [
    "list1 = [12.5,\"ali\",18,\"mohammad\"]\n",
    "print(list1[1][:2])"
   ]
  },
  {
   "cell_type": "code",
   "execution_count": 34,
   "metadata": {},
   "outputs": [
    {
     "data": {
      "text/plain": [
       "['ali', 18, 'mohammad', 12.5, 12.5]"
      ]
     },
     "execution_count": 34,
     "metadata": {},
     "output_type": "execute_result"
    }
   ],
   "source": [
    "list1 = [12.5,\"ali\",18,\"mohammad\",12.5,12.5]\n",
    "list1.remove(12.5)\n",
    "list1"
   ]
  },
  {
   "cell_type": "code",
   "execution_count": 40,
   "metadata": {},
   "outputs": [
    {
     "data": {
      "text/plain": [
       "[12.5, 'ali', 18]"
      ]
     },
     "execution_count": 40,
     "metadata": {},
     "output_type": "execute_result"
    }
   ],
   "source": [
    "list1 = [12.5,\"ali\",18,\"mohammad\"]\n",
    "list1.pop(3)\n",
    "list1"
   ]
  },
  {
   "cell_type": "code",
   "execution_count": 44,
   "metadata": {},
   "outputs": [
    {
     "data": {
      "text/plain": [
       "2"
      ]
     },
     "execution_count": 44,
     "metadata": {},
     "output_type": "execute_result"
    }
   ],
   "source": [
    "list1 = [12.5,\"ali\",18,\"mohammad\"]\n",
    "list1.index(18)\n"
   ]
  },
  {
   "cell_type": "code",
   "execution_count": 45,
   "metadata": {},
   "outputs": [
    {
     "data": {
      "text/plain": [
       "[]"
      ]
     },
     "execution_count": 45,
     "metadata": {},
     "output_type": "execute_result"
    }
   ],
   "source": [
    "list1 = [12.5,\"ali\",18,\"mohammad\"]\n",
    "list1.clear()\n",
    "list1"
   ]
  },
  {
   "cell_type": "code",
   "execution_count": 49,
   "metadata": {},
   "outputs": [
    {
     "ename": "NameError",
     "evalue": "name 'list1' is not defined",
     "output_type": "error",
     "traceback": [
      "\u001b[1;31m---------------------------------------------------------------------------\u001b[0m",
      "\u001b[1;31mNameError\u001b[0m                                 Traceback (most recent call last)",
      "Cell \u001b[1;32mIn[49], line 3\u001b[0m\n\u001b[0;32m      1\u001b[0m list1 \u001b[39m=\u001b[39m [\u001b[39m12.5\u001b[39m,\u001b[39m\"\u001b[39m\u001b[39mali\u001b[39m\u001b[39m\"\u001b[39m,\u001b[39m18\u001b[39m,\u001b[39m\"\u001b[39m\u001b[39mmohammad\u001b[39m\u001b[39m\"\u001b[39m]\n\u001b[0;32m      2\u001b[0m \u001b[39mdel\u001b[39;00m list1\n\u001b[1;32m----> 3\u001b[0m list1\n",
      "\u001b[1;31mNameError\u001b[0m: name 'list1' is not defined"
     ]
    }
   ],
   "source": [
    "list1 = [12.5,\"ali\",18,\"mohammad\"]\n",
    "del list1\n",
    "list1\n"
   ]
  },
  {
   "cell_type": "code",
   "execution_count": 53,
   "metadata": {},
   "outputs": [
    {
     "name": "stdout",
     "output_type": "stream",
     "text": [
      "yes\n"
     ]
    }
   ],
   "source": [
    "list1 = [1,5,6,8]\n",
    "\n",
    "if  5 in list1:\n",
    "    print(\"yes\")"
   ]
  },
  {
   "cell_type": "code",
   "execution_count": 58,
   "metadata": {},
   "outputs": [
    {
     "name": "stdout",
     "output_type": "stream",
     "text": [
      "5 84 7 54 12 6 32 \n",
      "5 84 7 54 12 6 32 "
     ]
    }
   ],
   "source": [
    "list1 = [5,84,7,54,12,6,32]\n",
    "for i in range(len(list1)):\n",
    "    print(list1[i],end=\" \")\n",
    "\n",
    "print(\"\")\n",
    "for i in list1:\n",
    "    print(i,end=\" \")"
   ]
  },
  {
   "cell_type": "code",
   "execution_count": 75,
   "metadata": {},
   "outputs": [
    {
     "data": {
      "text/plain": [
       "[20, 20, 30, 41, 30]"
      ]
     },
     "execution_count": 75,
     "metadata": {},
     "output_type": "execute_result"
    }
   ],
   "source": [
    "list1 = [10,10,20,20,30,41,30]\n",
    "x = list1.count(10)\n",
    "\n",
    "for i in range(x):\n",
    "    list1.remove(10)\n",
    "\n",
    "list1\n",
    "   \n"
   ]
  },
  {
   "cell_type": "code",
   "execution_count": 76,
   "metadata": {},
   "outputs": [
    {
     "name": "stdout",
     "output_type": "stream",
     "text": [
      "0 10\n",
      "1 5\n",
      "2 66\n",
      "3 3\n",
      "4 2\n"
     ]
    }
   ],
   "source": [
    "list1 = [10,5,66,3,2]\n",
    "\n",
    "for i,j in enumerate(list1):\n",
    "    print(i,j)"
   ]
  },
  {
   "cell_type": "code",
   "execution_count": 92,
   "metadata": {},
   "outputs": [
    {
     "ename": "ValueError",
     "evalue": "invalid literal for int() with base 10: ''",
     "output_type": "error",
     "traceback": [
      "\u001b[1;31m---------------------------------------------------------------------------\u001b[0m",
      "\u001b[1;31mValueError\u001b[0m                                Traceback (most recent call last)",
      "Cell \u001b[1;32mIn[92], line 4\u001b[0m\n\u001b[0;32m      2\u001b[0m \u001b[39msum\u001b[39m  \u001b[39m=\u001b[39m \u001b[39m0\u001b[39m\n\u001b[0;32m      3\u001b[0m Max_value \u001b[39m=\u001b[39m \u001b[39m0\u001b[39m\n\u001b[1;32m----> 4\u001b[0m Number \u001b[39m=\u001b[39m \u001b[39mint\u001b[39;49m(\u001b[39minput\u001b[39;49m(\u001b[39m\"\u001b[39;49m\u001b[39mEnter Number Of Student:\u001b[39;49m\u001b[39m\"\u001b[39;49m))\n\u001b[0;32m      5\u001b[0m \u001b[39mfor\u001b[39;00m i \u001b[39min\u001b[39;00m \u001b[39mrange\u001b[39m(Number):\n\u001b[0;32m      6\u001b[0m     str1 \u001b[39m=\u001b[39m \u001b[39mfloat\u001b[39m(\u001b[39minput\u001b[39m(\u001b[39m\"\u001b[39m\u001b[39mEnter Number:\u001b[39m\u001b[39m\"\u001b[39m))\n",
      "\u001b[1;31mValueError\u001b[0m: invalid literal for int() with base 10: ''"
     ]
    }
   ],
   "source": [
    "list1 = []\n",
    "sum  = 0\n",
    "Max_value = 0\n",
    "Number = int(input(\"Enter Number Of Student:\"))\n",
    "for i in range(Number):\n",
    "    str1 = float(input(\"Enter Number:\"))\n",
    "    list1.append(str1)\n",
    "    sum = sum + str1\n",
    "\n",
    "    if  Max_value < str1:\n",
    "        Max_value = str1\n",
    "list1    \n",
    "No_Twenty = list1.count(20)\n",
    "print(No_Twenty)\n",
    "print(Max_value)\n",
    "print(sum/Number)"
   ]
  },
  {
   "cell_type": "code",
   "execution_count": 88,
   "metadata": {},
   "outputs": [
    {
     "name": "stdout",
     "output_type": "stream",
     "text": [
      "10\n",
      "20\n",
      "3\n"
     ]
    }
   ],
   "source": [
    "print(min([10,15,20]))\n",
    "print(max([10,15,20]))\n",
    "print(len([10,15,20]))"
   ]
  },
  {
   "cell_type": "code",
   "execution_count": 95,
   "metadata": {},
   "outputs": [
    {
     "name": "stdout",
     "output_type": "stream",
     "text": [
      "2\n"
     ]
    }
   ],
   "source": [
    "print(5//2)"
   ]
  },
  {
   "cell_type": "code",
   "execution_count": null,
   "metadata": {},
   "outputs": [],
   "source": []
  }
 ],
 "metadata": {
  "kernelspec": {
   "display_name": "Python 3",
   "language": "python",
   "name": "python3"
  },
  "language_info": {
   "codemirror_mode": {
    "name": "ipython",
    "version": 3
   },
   "file_extension": ".py",
   "mimetype": "text/x-python",
   "name": "python",
   "nbconvert_exporter": "python",
   "pygments_lexer": "ipython3",
   "version": "3.11.3"
  },
  "orig_nbformat": 4
 },
 "nbformat": 4,
 "nbformat_minor": 2
}
