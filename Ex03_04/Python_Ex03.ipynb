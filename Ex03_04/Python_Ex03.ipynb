{
 "cells": [
  {
   "cell_type": "markdown",
   "source": [
    "# Question 1"
   ],
   "metadata": {},
   "attachments": {}
  },
  {
   "cell_type": "code",
   "execution_count": null,
   "source": [
    "input_char = input(\"Enter Character:\")\r\n",
    "length = len(input_char)\r\n",
    "print(f\"First character of “Python” is: {input_char[0]}\")\r\n",
    "print(f\"First character of “Python” is: {input_char[length-1]}\")\r\n",
    "if length % 2 != 0:\r\n",
    "    print(f\"Middle characters of “Python” is: {input_char[int(length/2)]}\")\r\n",
    "else:\r\n",
    "    print(f\"Middle characters of “Python” is: {input_char[int(length/2)]}{input_char[int(length/2)+1]}\")"
   ],
   "outputs": [],
   "metadata": {}
  },
  {
   "cell_type": "markdown",
   "source": [
    "# Quenstion 2"
   ],
   "metadata": {},
   "attachments": {}
  },
  {
   "cell_type": "code",
   "execution_count": 1,
   "source": [
    "\r\n",
    "list1 = []\r\n",
    "sum = 0\r\n",
    "max_value = 0\r\n",
    "for i in range(3):\r\n",
    "    str1 = input(f\"Enter String {i+1}\")\r\n",
    "    list1.append(str1)\r\n",
    "    sum =  sum + len(str1)\r\n",
    "\r\n",
    "average  = sum / 3 \r\n",
    "\r\n",
    "for i in list1:\r\n",
    "    if len(i) > average:\r\n",
    "        print(i) \r\n",
    "    \r\n"
   ],
   "outputs": [],
   "metadata": {}
  },
  {
   "cell_type": "markdown",
   "source": [
    "# Question 3"
   ],
   "metadata": {}
  },
  {
   "cell_type": "code",
   "execution_count": 9,
   "source": [
    "str1 = input(\"Enter first string:\")\r\n",
    "str2 = input(\"Enter second string:\")\r\n",
    "    \r\n",
    "if str2 in str1:\r\n",
    "    str1 = str1.replace(str2,\"\")\r\n",
    "    print(str1)\r\n",
    "else:\r\n",
    "    print(str2+str1+str2)\r\n",
    "\r\n"
   ],
   "outputs": [
    {
     "output_type": "stream",
     "name": "stdout",
     "text": [
      "mohammad\n"
     ]
    }
   ],
   "metadata": {}
  },
  {
   "cell_type": "markdown",
   "source": [
    "# Question 4"
   ],
   "metadata": {}
  },
  {
   "cell_type": "code",
   "execution_count": 24,
   "source": [
    "str1 = \"  Hello Python!  \"\r\n",
    "m1 = str1.lstrip()\r\n",
    "print(m1)\r\n",
    "str2 = \"Hi Mohammad\"\r\n",
    "m2 = str2.center(20,\"0\")\r\n",
    "print(m2)\r\n",
    "str3 = \"How are you?\"\r\n",
    "m3 = str3.partition(\"3\")\r\n",
    "m4 = str3.partition(\"How\")\r\n",
    "print(m3)\r\n",
    "print(m4)\r\n",
    "str4 = \"I'm teacher.\"\r\n",
    "m5 = str4.swapcase()\r\n",
    "print(m5)\r\n",
    "\r\n"
   ],
   "outputs": [
    {
     "output_type": "stream",
     "name": "stdout",
     "text": [
      "Hello Python!  \n",
      "0000Hi Mohammad00000\n",
      "('How are you?', '', '')\n",
      "('', 'How', ' are you?')\n",
      "i'M TEACHER.\n"
     ]
    }
   ],
   "metadata": {}
  }
 ],
 "metadata": {
  "kernelspec": {
   "name": "python3",
   "display_name": "Python 3.9.5 64-bit"
  },
  "language_info": {
   "codemirror_mode": {
    "name": "ipython",
    "version": 3
   },
   "file_extension": ".py",
   "mimetype": "text/x-python",
   "name": "python",
   "nbconvert_exporter": "python",
   "pygments_lexer": "ipython3",
   "version": "3.9.5"
  },
  "orig_nbformat": 4,
  "interpreter": {
   "hash": "d1b22d320e95589291e0d20609ea19641ea650decb573ebdd334c8ef21e49108"
  }
 },
 "nbformat": 4,
 "nbformat_minor": 2
}