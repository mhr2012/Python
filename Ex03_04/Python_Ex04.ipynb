{
 "cells": [
  {
   "cell_type": "markdown",
   "source": [
    "# Question 1"
   ],
   "metadata": {},
   "attachments": {}
  },
  {
   "cell_type": "code",
   "execution_count": 1,
   "source": [
    "str1 = \"PYTHON\"\r\n",
    "sum = \"\"\r\n",
    "for i in str1:\r\n",
    "    sum = sum + i\r\n",
    "    print(sum)\r\n"
   ],
   "outputs": [
    {
     "output_type": "stream",
     "name": "stdout",
     "text": [
      "P\n",
      "PY\n",
      "PYT\n",
      "PYTH\n",
      "PYTHO\n",
      "PYTHON\n"
     ]
    }
   ],
   "metadata": {}
  },
  {
   "cell_type": "markdown",
   "source": [
    "# Question 2"
   ],
   "metadata": {}
  },
  {
   "cell_type": "code",
   "execution_count": 8,
   "source": [
    "str1 = \"Python is a high-level, general-purpose programming language.\"\r\n",
    "str1 = str1.lower()\r\n",
    "cnt = 0\r\n",
    "print(str1)\r\n",
    "for i in str1:\r\n",
    "    if i == 'a' or i == 'e' or i == 'i' or i == 'o' or i == 'u': \r\n",
    "        cnt+=1\r\n",
    "print(cnt)        \r\n",
    "        "
   ],
   "outputs": [
    {
     "output_type": "stream",
     "name": "stdout",
     "text": [
      "python is a high-level, general-purpose programming language.\n",
      "19\n"
     ]
    }
   ],
   "metadata": {}
  },
  {
   "cell_type": "markdown",
   "source": [
    "# Question 3"
   ],
   "metadata": {}
  },
  {
   "cell_type": "code",
   "execution_count": 17,
   "source": [
    "Number = int(input(\"Enter Number:\"))\r\n",
    "for i in range(0,11,2):\r\n",
    "    print(f\"{Number} * {i} = {i*Number}\")\r\n"
   ],
   "outputs": [
    {
     "output_type": "stream",
     "name": "stdout",
     "text": [
      "5 * 0 = 0\n",
      "5 * 2 = 10\n",
      "5 * 4 = 20\n",
      "5 * 6 = 30\n",
      "5 * 8 = 40\n",
      "5 * 10 = 50\n"
     ]
    }
   ],
   "metadata": {}
  },
  {
   "cell_type": "markdown",
   "source": [
    "# Quenstion 4"
   ],
   "metadata": {}
  },
  {
   "cell_type": "code",
   "execution_count": 24,
   "source": [
    "Number = int(input(\"Enter Number:\"))\r\n",
    "for i in range(Number):\r\n",
    "    if i == 0:\r\n",
    "        print(f\"{Number} / {i} = Error\")    \r\n",
    "    else:        \r\n",
    "        print(f\"{Number} / {i} = {Number//i}\")"
   ],
   "outputs": [
    {
     "output_type": "stream",
     "name": "stdout",
     "text": [
      "5 / 0 = Error\n",
      "5 / 1 = 5\n",
      "5 / 2 = 2\n",
      "5 / 3 = 1\n",
      "5 / 4 = 1\n"
     ]
    }
   ],
   "metadata": {}
  },
  {
   "cell_type": "code",
   "execution_count": null,
   "source": [],
   "outputs": [],
   "metadata": {}
  }
 ],
 "metadata": {
  "kernelspec": {
   "name": "python3",
   "display_name": "Python 3.9.5 64-bit"
  },
  "language_info": {
   "codemirror_mode": {
    "name": "ipython",
    "version": 3
   },
   "file_extension": ".py",
   "mimetype": "text/x-python",
   "name": "python",
   "nbconvert_exporter": "python",
   "pygments_lexer": "ipython3",
   "version": "3.9.5"
  },
  "orig_nbformat": 4,
  "interpreter": {
   "hash": "d1b22d320e95589291e0d20609ea19641ea650decb573ebdd334c8ef21e49108"
  }
 },
 "nbformat": 4,
 "nbformat_minor": 2
}